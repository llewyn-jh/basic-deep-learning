{
 "cells": [
  {
   "cell_type": "code",
   "execution_count": 40,
   "metadata": {},
   "outputs": [],
   "source": [
    "%config Completer.use_jedi = False"
   ]
  },
  {
   "cell_type": "code",
   "execution_count": 2,
   "metadata": {},
   "outputs": [],
   "source": [
    "import numpy as np\n",
    "import matplotlib.pyplot as plt\n",
    "import tensorflow as tf\n",
    "from tensorflow import keras"
   ]
  },
  {
   "cell_type": "code",
   "execution_count": 3,
   "metadata": {},
   "outputs": [],
   "source": [
    "class DualLayer:\n",
    "    \n",
    "    def __init__(self, units=10, learning_rate=0.1, l1=0, l2=0):\n",
    "        self.w1 = None\n",
    "        self.b1 = None\n",
    "        self.w2 = None\n",
    "        self.b2 = None\n",
    "        self.a1 = None\n",
    "        self.units = units\n",
    "        self.losses = []\n",
    "        self.val_losses = []\n",
    "        self.lr = learning_rate\n",
    "        self.l1 = l1\n",
    "        self.l2 = l2\n",
    "       \n",
    "    def init_weights(self, x):\n",
    "        self.w1 = np.ones((x.shape[1], self.units))\n",
    "        self.b1 = np.zeros(self.units)\n",
    "        self.w2 = np.ones((self.units, 1))\n",
    "        self.b2 = 0\n",
    "        \n",
    "    def activation(self, z):\n",
    "        z = np.clip(z, -100, None)\n",
    "        a = 1 / (1 + np.exp(-z))\n",
    "        return a\n",
    "        \n",
    "    def forpass(self, x):\n",
    "        z1 = np.dot(x, self.w1) + self.b1\n",
    "        self.a1 = self.activation(z1)\n",
    "        z2 = np.dot(self.a1, self.w2) + self.b2\n",
    "        return z2\n",
    "    \n",
    "    def backprop(self, x, err):\n",
    "        m = len(x)\n",
    "        w2_grad = np.dot(self.a1.T, err) / m\n",
    "        b2_grad = np.sum(err) / m\n",
    "        hidden_to_err = np.dot(err, self.w2.T) * self.a1 * (1 - self.a1)\n",
    "        w1_grad = np.dot(x.T, hidden_to_err) / m\n",
    "        b1_grad = np.sum(hidden_to_err, axis=0) / m\n",
    "        return w1_grad, b1_grad, w2_grad, b2_grad\n",
    "    \n",
    "    def reg_loss(self):\n",
    "        return self.l1 * (np.sum(np.abs(self.w1)) + np.sum(np.abs(self.w2))) + \\\n",
    "               self.l2 / 2 * (np.sum(self.w1**2) + np.sum(self.w2**2))\n",
    "    \n",
    "    def update_val_losses(self, x_val, y_val):\n",
    "        z = self.forpass(x_val)\n",
    "        a = self.activation(z)\n",
    "        a = np.clip(a, 1e-10, 1-1e-10)\n",
    "        val_loss = np.sum(-(y_val*np.log(a) + (1-y_val)*np.log(1-a)))\n",
    "        self.val_losses.append((val_loss + self.reg_loss()) / len(y_val))\n",
    "     \n",
    "    def fit(self, x, y, epochs=100, x_val=None, y_val=None):\n",
    "        y = y.reshape(-1, 1)\n",
    "        y_val = y_val.reshape(-1, 1)\n",
    "        self.init_weights(x)\n",
    "        m = len(x)\n",
    "        for i in tqdm(range(epochs)):\n",
    "            z = self.forpass(x)\n",
    "            a = self.activation(z)\n",
    "            err = - (y - a)\n",
    "            w1_grad, b1_grad, w2_grad, b2_grad = self.backprop(x, err)\n",
    "            w1_grad += (self.l1 * np.sign(self.w1) + self.l2 * self.w1) / m\n",
    "            w2_grad += (self.l1 * np.sign(self.w2) + self.l2 * self.w2) / m\n",
    "            self.w1 -= self.lr * w1_grad\n",
    "            self.b1 -= self.lr * b1_grad\n",
    "            self.w2 -= self.lr * w2_grad\n",
    "            self.b2 -= self.lr * b2_grad\n",
    "            a = np.clip(a, 1e-10, 1-1e-10)\n",
    "            loss = np.sum(-(y*np.log(a) + (1-y)*np.log(1-a)))\n",
    "            self.losses.append((loss + self.reg_loss()) / m)\n",
    "            self.update_val_losses(x_val, y_val)\n",
    "            \n",
    "    def predict(self, x):\n",
    "        z = self.forpass(x)\n",
    "        return z > 0\n",
    "    \n",
    "    def score(self, x, y):\n",
    "        return np.mean(self.predict(x) == y.reshape(-1, 1))    "
   ]
  },
  {
   "cell_type": "code",
   "execution_count": 4,
   "metadata": {},
   "outputs": [],
   "source": [
    "class RandomInitNetwork(DualLayer):\n",
    "    \n",
    "    def init_weights(self, x):\n",
    "        np.random.seed(seed=42)\n",
    "        self.w1 = np.random.normal(0, 1, (x.shape[1], self.units))\n",
    "        self.b1 = np.zeros(self.units)\n",
    "        self.w2 = np.random.normal(0, 1, (self.units, 1))\n",
    "        self.b2 = 0"
   ]
  },
  {
   "cell_type": "code",
   "execution_count": 5,
   "metadata": {},
   "outputs": [],
   "source": [
    "class MinibatchNetwork(RandomInitNetwork):\n",
    "    \n",
    "    def __init__(self, units=10, batch_size=32,learning_rate=0.1, l1=0, l2=0):\n",
    "        super().__init__(units, learning_rate, l1, l2)\n",
    "        self.batch_size = batch_size\n",
    "            \n",
    "    def gen_batch(self, x, y):\n",
    "        length = len(x)\n",
    "        bins = length // self.batch_size\n",
    "        if length % self.batch_size:\n",
    "            bins += 1\n",
    "        indexes = np.random.permutation(np.arange(len(x)))\n",
    "        x = x[indexes]\n",
    "        y = y[indexes]\n",
    "        for i in range(bins):\n",
    "            start = self.batch_size * i\n",
    "            end = self.batch_size * (i + 1)\n",
    "            yield x[start:end], y[start:end]\n",
    "        \n",
    "    def fit(self, x, y, epochs=100, x_val=None, y_val=None):\n",
    "        y_val = y_val.reshape(-1, 1)\n",
    "        self.init_weights(x)\n",
    "        np.random.seed(42)\n",
    "        for i in tqdm(range(epochs)):\n",
    "            loss = 0\n",
    "            for x_batch, y_batch in self.gen_batch(x, y):\n",
    "                m = len(x_batch)\n",
    "                \n",
    "                y_batch = y_batch.reshape(-1, 1)\n",
    "                \n",
    "                z = self.forpass(x_batch)\n",
    "                a = self.activation(z)\n",
    "                err = - (y_batch - a)\n",
    "\n",
    "                w1_grad, b1_grad, w2_grad, b2_grad = self.backprop(x_batch, err)\n",
    "\n",
    "                w1_grad += (self.l1 * np.sign(self.w1) + self.l2 * self.w1) / m\n",
    "                w2_grad += (self.l1 * np.sign(self.w2) + self.l2 * self.w2) / m\n",
    "\n",
    "                self.w1 -= self.lr * w1_grad\n",
    "                self.b1 -= self.lr * b1_grad\n",
    "\n",
    "                self.w2 -= self.lr * w2_grad\n",
    "                self.b2 -= self.lr * b2_grad\n",
    "\n",
    "                a = np.clip(a, 1e-10, 1-1e-10)\n",
    "\n",
    "                loss += np.sum(- (y_batch * np.log(a) + (1 - y_batch) * np.log(1 - a)))\n",
    "            \n",
    "            self.losses.append((loss + self.reg_loss()) / len(x))\n",
    "            self.update_val_losses(x_val, y_val)\n",
    "            \n",
    "    def reg_loss(self):\n",
    "        return self.l1 * (np.sum(np.abs(self.w1)) + np.sum(np.abs(self.w2))) + \\\n",
    "               self.l2 / 2 * (np.sum(self.w1**2) + np.sum(self.w2**2))\n",
    "    \n",
    "    def update_val_losses(self, x_val, y_val):\n",
    "        z2 = self.forpass(x_val)\n",
    "        a2 = self.activation(z2)\n",
    "        a2 = np.clip(a2, 1e-10, 1-1e-10)\n",
    "        val_loss = np.sum(- (y_val * np.log(a2) + (1 - y_val) * np.log(1 - a2)))\n",
    "        self.val_losses.append((val_loss + self.reg_loss()) / len(y_val))"
   ]
  },
  {
   "cell_type": "code",
   "execution_count": 6,
   "metadata": {},
   "outputs": [],
   "source": [
    "class MiniClassNetwork():\n",
    "    \n",
    "    def __init__(self, units=10, batch_size=32,learning_rate=0.1, l1=0, l2=0):\n",
    "        self.w1 = None\n",
    "        self.b1 = None\n",
    "        self.w2 = None\n",
    "        self.b2 = None\n",
    "        self.a1 = None\n",
    "        self.units = units\n",
    "        self.batch_size = batch_size\n",
    "        self.losses = []\n",
    "        self.val_losses = []\n",
    "        self.lr = learning_rate\n",
    "        self.l1 = l1\n",
    "        self.l2 = l2\n",
    "       \n",
    "    def init_weights(self, x, y):\n",
    "        np.random.seed(seed=42)\n",
    "        self.w1 = np.random.normal(0, 1, (x.shape[1], self.units))\n",
    "        self.b1 = np.zeros(self.units)\n",
    "        self.w2 = np.random.normal(0, 1, (self.units, y.shape[1]))\n",
    "        self.b2 = 0\n",
    "        \n",
    "    def sigmoid(self, z):\n",
    "        z = np.clip(z, -100, None)\n",
    "        a = 1 / (1 + np.exp(-z))\n",
    "        return a\n",
    "    \n",
    "    def softmax(self, z):\n",
    "        exp_z = np.exp(z)\n",
    "        return exp_z / np.sum(np.exp(z), axis=1).reshape(-1, 1)\n",
    "        \n",
    "    def forpass(self, x):\n",
    "        z1 = np.dot(x, self.w1) + self.b1\n",
    "        self.a1 = self.sigmoid(z1)\n",
    "        z2 = np.dot(self.a1, self.w2) + self.b2\n",
    "        return z2\n",
    "    \n",
    "    def backprop(self, x, err):\n",
    "        m = len(x)\n",
    "        w2_grad = np.dot(self.a1.T, err) / m\n",
    "        b2_grad = np.sum(err) / m\n",
    "        hidden_to_err = np.dot(err, self.w2.T) * self.a1 * (1 - self.a1)\n",
    "        w1_grad = np.dot(x.T, hidden_to_err) / m\n",
    "        b1_grad = np.sum(hidden_to_err, axis=0) / m\n",
    "        return w1_grad, b1_grad, w2_grad, b2_grad\n",
    "    \n",
    "    def reg_loss(self):\n",
    "        return self.l1 * (np.sum(np.abs(self.w1)) + np.sum(np.abs(self.w2))) + \\\n",
    "               self.l2 / 2 * (np.sum(self.w1**2) + np.sum(self.w2**2))\n",
    "    \n",
    "    def update_val_losses(self, x_val, y_val):\n",
    "        z = self.forpass(x_val)\n",
    "        a = self.softmax(z)\n",
    "        a = np.clip(a, 1e-10, 1-1e-10)\n",
    "        val_loss = np.sum(- y_val*np.log(a))\n",
    "        self.val_losses.append((val_loss + self.reg_loss()) / len(y_val))\n",
    "        \n",
    "    def gen_batch(self, x, y):\n",
    "        length = len(x)\n",
    "        bins = length // self.batch_size\n",
    "        if length % self.batch_size:\n",
    "            bins += 1\n",
    "        indexes = np.random.permutation(np.arange(len(x)))\n",
    "        x = x[indexes]\n",
    "        y = y[indexes]\n",
    "        for i in range(bins):\n",
    "            start = self.batch_size * i\n",
    "            end = self.batch_size * (i + 1)\n",
    "            yield x[start:end], y[start:end]\n",
    "     \n",
    "    def fit(self, x, y, epochs=100, x_val=None, y_val=None):\n",
    "        self.init_weights(x, y)\n",
    "        np.random.seed(42)\n",
    "        for i in range(epochs):\n",
    "            print('.', end='')\n",
    "            loss = 0\n",
    "            for x_batch, y_batch in self.gen_batch(x, y):\n",
    "                m = len(x_batch)\n",
    "                \n",
    "                z = self.forpass(x_batch)\n",
    "                a = self.softmax(z)\n",
    "                err = - (y_batch - a)\n",
    "\n",
    "                w1_grad, b1_grad, w2_grad, b2_grad = self.backprop(x_batch, err)\n",
    "\n",
    "                w1_grad += (self.l1 * np.sign(self.w1) + self.l2 * self.w1) / m\n",
    "                w2_grad += (self.l1 * np.sign(self.w2) + self.l2 * self.w2) / m\n",
    "\n",
    "                self.w1 -= self.lr * w1_grad\n",
    "                self.b1 -= self.lr * b1_grad\n",
    "\n",
    "                self.w2 -= self.lr * w2_grad\n",
    "                self.b2 -= self.lr * b2_grad\n",
    "\n",
    "                a = np.clip(a, 1e-10, 1-1e-10)\n",
    "\n",
    "                loss += np.sum(- y_batch * np.log(a))\n",
    "            \n",
    "            self.losses.append((loss + self.reg_loss()) / len(x))\n",
    "            self.update_val_losses(x_val, y_val)\n",
    "            \n",
    "    def predict(self, x):\n",
    "        z = self.forpass(x)\n",
    "        return np.argmax(z, axis=1)\n",
    "    \n",
    "    def score(self, x, y):\n",
    "        return np.mean(self.predict(x) == np.argmax(y, axis=1))    \n",
    "    "
   ]
  },
  {
   "cell_type": "code",
   "execution_count": 7,
   "metadata": {},
   "outputs": [],
   "source": [
    "fashion_mnist = keras.datasets.fashion_mnist\n",
    "(train_images, train_labels), (test_images, test_labels) = fashion_mnist.load_data()"
   ]
  },
  {
   "cell_type": "code",
   "execution_count": 8,
   "metadata": {},
   "outputs": [
    {
     "name": "stdout",
     "output_type": "stream",
     "text": [
      "The number of train images: 60000\n",
      "The number of test images: 10000\n"
     ]
    }
   ],
   "source": [
    "print(\"The number of train images: %s\" % len(train_images))\n",
    "print(\"The number of test images: %s\" % len(test_images))"
   ]
  },
  {
   "cell_type": "code",
   "execution_count": 9,
   "metadata": {},
   "outputs": [
    {
     "data": {
      "image/png": "[encoded data removed]",
      "text/plain": [
       "<Figure size 432x288 with 1 Axes>"
      ]
     },
     "metadata": {
      "needs_background": "light"
     },
     "output_type": "display_data"
    }
   ],
   "source": [
    "plt.imshow(train_images[0], cmap='gray')\n",
    "plt.show()"
   ]
  },
  {
   "cell_type": "code",
   "execution_count": 10,
   "metadata": {},
   "outputs": [
    {
     "data": {
      "text/plain": [
       "9"
      ]
     },
     "execution_count": 10,
     "metadata": {},
     "output_type": "execute_result"
    }
   ],
   "source": [
    "train_labels[0]"
   ]
  },
  {
   "cell_type": "code",
   "execution_count": 11,
   "metadata": {},
   "outputs": [],
   "source": [
    "class_names = ['T-shirt/top', 'Trouser', 'Pullover', 'Dress', 'Coat',\n",
    "               'Sandal', 'Shirt', 'Sneaker', 'Bag', 'Ankle boot']"
   ]
  },
  {
   "cell_type": "code",
   "execution_count": 12,
   "metadata": {},
   "outputs": [
    {
     "data": {
      "text/plain": [
       "'Ankle boot'"
      ]
     },
     "execution_count": 12,
     "metadata": {},
     "output_type": "execute_result"
    }
   ],
   "source": [
    "class_names[train_labels[0]]"
   ]
  },
  {
   "cell_type": "code",
   "execution_count": 13,
   "metadata": {},
   "outputs": [
    {
     "data": {
      "text/plain": [
       "array([6000, 6000, 6000, 6000, 6000, 6000, 6000, 6000, 6000, 6000])"
      ]
     },
     "execution_count": 13,
     "metadata": {},
     "output_type": "execute_result"
    }
   ],
   "source": [
    "np.bincount(train_labels)"
   ]
  },
  {
   "cell_type": "code",
   "execution_count": 14,
   "metadata": {},
   "outputs": [],
   "source": [
    "from sklearn.model_selection import train_test_split"
   ]
  },
  {
   "cell_type": "code",
   "execution_count": 15,
   "metadata": {},
   "outputs": [],
   "source": [
    "x_train, x_val, y_train, y_val = train_test_split(train_images, train_labels, stratify=train_labels, test_size=0.2, random_state=42)"
   ]
  },
  {
   "cell_type": "code",
   "execution_count": 16,
   "metadata": {},
   "outputs": [
    {
     "name": "stdout",
     "output_type": "stream",
     "text": [
      "The number of train images: 48000\n",
      "The number of validation images: 12000\n"
     ]
    }
   ],
   "source": [
    "print(\"The number of train images: %d\" % len(x_train))\n",
    "print(\"The number of validation images: %d\" % len(x_val))"
   ]
  },
  {
   "cell_type": "code",
   "execution_count": 17,
   "metadata": {},
   "outputs": [],
   "source": [
    "x_train = x_train / 255\n",
    "x_val = x_val / 255"
   ]
  },
  {
   "cell_type": "code",
   "execution_count": 18,
   "metadata": {},
   "outputs": [
    {
     "name": "stdout",
     "output_type": "stream",
     "text": [
      "The shape of train dataset: 784\n",
      "The shape of validation dataset: 784\n"
     ]
    }
   ],
   "source": [
    "x_train = x_train.reshape(-1, 784)\n",
    "x_val = x_val.reshape(-1, 784)\n",
    "\n",
    "print(\"The shape of train dataset: %d\" % x_train.shape[1])\n",
    "print(\"The shape of validation dataset: %d\" % x_val.shape[1])"
   ]
  },
  {
   "cell_type": "code",
   "execution_count": 19,
   "metadata": {},
   "outputs": [],
   "source": [
    "y_train_encoded = keras.utils.to_categorical(y_train)\n",
    "y_val_encoded = keras.utils.to_categorical(y_val)"
   ]
  },
  {
   "cell_type": "code",
   "execution_count": 20,
   "metadata": {},
   "outputs": [
    {
     "name": "stdout",
     "output_type": "stream",
     "text": [
      "........................................"
     ]
    }
   ],
   "source": [
    "fc = MiniClassNetwork(units=100, batch_size=256)\n",
    "fc.fit(x_train,\n",
    "       y_train_encoded,\n",
    "       epochs=40,\n",
    "       x_val=x_val,\n",
    "       y_val=y_val_encoded)"
   ]
  },
  {
   "cell_type": "code",
   "execution_count": 21,
   "metadata": {},
   "outputs": [
    {
     "data": {
      "image/png": "[encoded data removed]",
      "text/plain": [
       "<Figure size 432x288 with 1 Axes>"
      ]
     },
     "metadata": {
      "needs_background": "light"
     },
     "output_type": "display_data"
    }
   ],
   "source": [
    "plt.plot(fc.losses)\n",
    "plt.plot(fc.val_losses)\n",
    "plt.ylabel(\"losses\")\n",
    "plt.xlabel(\"epoch\")\n",
    "plt.legend([\"train\", \"val\"])\n",
    "plt.grid()\n",
    "plt.show()"
   ]
  },
  {
   "cell_type": "code",
   "execution_count": 29,
   "metadata": {},
   "outputs": [
    {
     "name": "stdout",
     "output_type": "stream",
     "text": [
      "The accuracy: 0.8150833333333334\n"
     ]
    }
   ],
   "source": [
    "score = fc.score(x_val, y_val_encoded)\n",
    "print(\"The accuracy: %s\" % score)"
   ]
  },
  {
   "cell_type": "markdown",
   "metadata": {},
   "source": [
    "### CNN"
   ]
  },
  {
   "cell_type": "code",
   "execution_count": 48,
   "metadata": {},
   "outputs": [],
   "source": [
    "class ConvolutionNetwork():\n",
    "    \n",
    "    def __init__(self, n_kernels=10, units=10, batch_size=32, learning_rate=0.1):\n",
    "        self.n_kernels = n_kernels\n",
    "        self.kernel_size = 3\n",
    "        self.optimizer = None\n",
    "        self.conv_w = None\n",
    "        self.conv_b = None\n",
    "        self.w1 = None\n",
    "        self.b1 = None\n",
    "        self.w2 = None\n",
    "        self.b2 = None\n",
    "        self.a1 = None\n",
    "        self.units = units\n",
    "        self.batch_size = batch_size\n",
    "        self.losses = []\n",
    "        self.val_losses = []\n",
    "        self.lr = learning_rate\n",
    "       \n",
    "    def init_weights(self, input_shape, n_classes):\n",
    "        g = tf.initializers.glorot_uniform()\n",
    "        self.conv_w = tf.Variable(g((3, 3, 1, self.n_kernels)))\n",
    "        self.conv_b = tf.Variable(np.zeros(self.n_kernels), dtype=float)\n",
    "        n_features = 14 * 14 * self.n_kernels\n",
    "        self.w1 = tf.Variable(g((n_features, self.units)))\n",
    "        self.b1 = tf.Variable(np.zeros(self.units), dtype=float)\n",
    "        self.w2 = tf.Variable(g((self.units, n_classes)))\n",
    "        self.b2 = tf.Variable(np.zeros(n_classes), dtype=float)\n",
    "        \n",
    "    def sigmoid(self, z):\n",
    "        z = np.clip(z, -100, None)\n",
    "        a = 1 / (1 + np.exp(-z))\n",
    "        return a\n",
    "    \n",
    "    def softmax(self, z):\n",
    "        exp_z = np.exp(z)\n",
    "        return exp_z / np.sum(np.exp(z), axis=1).reshape(-1, 1)\n",
    "        \n",
    "    def forpass(self, x):\n",
    "        c_out = tf.nn.conv2d(x, self.conv_w, strides=1, padding='SAME') + self.conv_b\n",
    "        r_out = tf.nn.relu(c_out)\n",
    "        p_out = tf.nn.max_pool2d(r_out, ksize=2, strides=2, padding='VALID')\n",
    "        f_out = tf.reshape(p_out, [x.shape[0], -1])\n",
    "        z1 = tf.matmul(f_out, self.w1) + self.b1\n",
    "        a1 = tf.nn.relu(z1)\n",
    "        z2 = tf.matmul(a1, self.w2) + self.b2\n",
    "        return z2\n",
    "    \n",
    "    def training(self, x, y):\n",
    "        m = len(x)\n",
    "        with tf.GradientTape() as tape:\n",
    "            z = self.forpass(x)\n",
    "            loss = tf.nn.softmax_cross_entropy_with_logits(y, z)\n",
    "            loss = tf.reduce_mean(loss)\n",
    "            weights_list = [self.conv_w, self.conv_b, self.w1, self.b1, self.w2, self.b2]\n",
    "            grads = tape.gradient(loss, weights_list)\n",
    "            self.optimizer.apply_gradients(zip(grads, weights_list))\n",
    "        \n",
    "    def gen_batch(self, x, y):\n",
    "        length = len(x)\n",
    "        bins = length // self.batch_size\n",
    "        if length % self.batch_size:\n",
    "            bins += 1\n",
    "        indexes = np.random.permutation(np.arange(len(x)))\n",
    "        x = x[indexes]\n",
    "        y = y[indexes]\n",
    "        for i in range(bins):\n",
    "            start = self.batch_size * i\n",
    "            end = self.batch_size * (i + 1)\n",
    "            yield x[start:end], y[start:end]\n",
    "            \n",
    "    def get_loss(self, x, y):\n",
    "        z = self.forpass(x)\n",
    "        loss = tf.reduce_mean(tf.nn.softmax_cross_entropy_with_logits(y, z))\n",
    "        return loss.numpy()\n",
    "     \n",
    "    def fit(self, x, y, epochs=100, x_val=None, y_val=None):\n",
    "        self.init_weights(x.shape, y.shape[1])\n",
    "        self.optimizer = tf.optimizers.SGD(learning_rate=self.lr)\n",
    "        np.random.seed(42)\n",
    "        for i in range(epochs):\n",
    "            print('에포크', i, end=' ')\n",
    "            batch_losses = []\n",
    "            for x_batch, y_batch in self.gen_batch(x, y):\n",
    "                print('.', end='')\n",
    "                self.training(x_batch, y_batch)\n",
    "                batch_losses.append(self.get_loss(x_batch, y_batch))\n",
    "            print()\n",
    "            self.losses.append(np.mean(batch_losses))\n",
    "            self.val_losses.append(self.get_loss(x_val, y_val))\n",
    "            \n",
    "    def predict(self, x):\n",
    "        z = self.forpass(x)\n",
    "        return np.argmax(z, axis=1)\n",
    "    \n",
    "    def score(self, x, y):\n",
    "        return np.mean(self.predict(x) == np.argmax(y, axis=1))    \n",
    "    "
   ]
  },
  {
   "cell_type": "code",
   "execution_count": 35,
   "metadata": {},
   "outputs": [
    {
     "name": "stdout",
     "output_type": "stream",
     "text": [
      "(48000, 28, 28, 1)\n",
      "(12000, 28, 28, 1)\n"
     ]
    }
   ],
   "source": [
    "x_train = x_train.reshape(-1, 28, 28, 1)\n",
    "x_val = x_val.reshape(-1, 28, 28, 1)\n",
    "\n",
    "print(x_train.shape)\n",
    "print(x_val.shape)"
   ]
  },
  {
   "cell_type": "code",
   "execution_count": 49,
   "metadata": {},
   "outputs": [
    {
     "name": "stdout",
     "output_type": "stream",
     "text": [
      "에포크 0 .......................................................................................................................................................................................................................................................................................................................................................................................\n",
      "에포크 1 .......................................................................................................................................................................................................................................................................................................................................................................................\n",
      "에포크 2 .......................................................................................................................................................................................................................................................................................................................................................................................\n",
      "에포크 3 .......................................................................................................................................................................................................................................................................................................................................................................................\n",
      "에포크 4 .......................................................................................................................................................................................................................................................................................................................................................................................\n",
      "에포크 5 .......................................................................................................................................................................................................................................................................................................................................................................................\n",
      "에포크 6 .......................................................................................................................................................................................................................................................................................................................................................................................\n",
      "에포크 7 .......................................................................................................................................................................................................................................................................................................................................................................................\n",
      "에포크 8 .......................................................................................................................................................................................................................................................................................................................................................................................\n",
      "에포크 9 .......................................................................................................................................................................................................................................................................................................................................................................................\n",
      "에포크 10 .......................................................................................................................................................................................................................................................................................................................................................................................\n",
      "에포크 11 .......................................................................................................................................................................................................................................................................................................................................................................................\n",
      "에포크 12 .......................................................................................................................................................................................................................................................................................................................................................................................\n",
      "에포크 13 .......................................................................................................................................................................................................................................................................................................................................................................................\n",
      "에포크 14 .......................................................................................................................................................................................................................................................................................................................................................................................\n",
      "에포크 15 .......................................................................................................................................................................................................................................................................................................................................................................................\n",
      "에포크 16 .......................................................................................................................................................................................................................................................................................................................................................................................\n",
      "에포크 17 .......................................................................................................................................................................................................................................................................................................................................................................................\n",
      "에포크 18 .......................................................................................................................................................................................................................................................................................................................................................................................\n",
      "에포크 19 .......................................................................................................................................................................................................................................................................................................................................................................................\n"
     ]
    }
   ],
   "source": [
    "cn = ConvolutionNetwork(n_kernels=10, units=100, batch_size=128, learning_rate=0.01)\n",
    "cn.fit(x_train, y_train_encoded, epochs=20, x_val=x_val, y_val=y_val_encoded)"
   ]
  },
  {
   "cell_type": "code",
   "execution_count": 52,
   "metadata": {},
   "outputs": [
    {
     "data": {
      "image/png": "[encoded data removed]",
      "text/plain": [
       "<Figure size 432x288 with 1 Axes>"
      ]
     },
     "metadata": {
      "needs_background": "light"
     },
     "output_type": "display_data"
    }
   ],
   "source": [
    "plt.plot(cn.losses)\n",
    "plt.plot(cn.val_losses)\n",
    "plt.legend([\"train\", \"validation\"])\n",
    "plt.xlabel(\"epoch\")\n",
    "plt.ylabel(\"loss\")\n",
    "plt.grid()\n",
    "plt.show()"
   ]
  },
  {
   "cell_type": "code",
   "execution_count": 54,
   "metadata": {},
   "outputs": [
    {
     "data": {
      "text/plain": [
       "0.8828333333333334"
      ]
     },
     "execution_count": 54,
     "metadata": {},
     "output_type": "execute_result"
    }
   ],
   "source": [
    "cn.score(x_val, y_val_encoded)"
   ]
  }
 ],
 "metadata": {
  "kernelspec": {
   "display_name": "Python 3",
   "language": "python",
   "name": "python3"
  },
  "language_info": {
   "codemirror_mode": {
    "name": "ipython",
    "version": 3
   },
   "file_extension": ".py",
   "mimetype": "text/x-python",
   "name": "python",
   "nbconvert_exporter": "python",
   "pygments_lexer": "ipython3",
   "version": "3.8.2"
  }
 },
 "nbformat": 4,
 "nbformat_minor": 4
}
