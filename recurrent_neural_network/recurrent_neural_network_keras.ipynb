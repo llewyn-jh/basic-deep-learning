{
 "cells": [
  {
   "cell_type": "code",
   "execution_count": null,
   "id": "hourly-bouquet",
   "metadata": {},
   "outputs": [],
   "source": [
    "%config Completer.use_jedi = False"
   ]
  },
  {
   "cell_type": "markdown",
   "id": "handmade-great",
   "metadata": {},
   "source": [
    "# Load IMDB dataset"
   ]
  },
  {
   "cell_type": "code",
   "execution_count": null,
   "id": "developed-publication",
   "metadata": {},
   "outputs": [],
   "source": [
    "import warnings\n",
    "import numpy as np\n",
    "from tensorflow.keras.datasets import imdb\n",
    "\n",
    "warnings.filterwarnings('ignore')"
   ]
  },
  {
   "cell_type": "code",
   "execution_count": null,
   "id": "technical-likelihood",
   "metadata": {},
   "outputs": [],
   "source": [
    "(x_train_all, y_train_all), (x_test, y_test) = imdb.load_data(skip_top=20, num_words=100)"
   ]
  },
  {
   "cell_type": "markdown",
   "id": "brown-cooperation",
   "metadata": {},
   "source": [
    "# Remove digits 0, 1 and 2"
   ]
  },
  {
   "cell_type": "code",
   "execution_count": null,
   "id": "appropriate-admission",
   "metadata": {},
   "outputs": [],
   "source": [
    "for i in range(len(x_train_all)):\n",
    "    x_train_all[i] = [n for n in x_train_all[i] if n > 2]"
   ]
  },
  {
   "cell_type": "markdown",
   "id": "sealed-comparison",
   "metadata": {},
   "source": [
    "# Change indexes to words"
   ]
  },
  {
   "cell_type": "code",
   "execution_count": null,
   "id": "cross-anaheim",
   "metadata": {},
   "outputs": [],
   "source": [
    "word2index = imdb.get_word_index()\n",
    "index2word = {word2index[k]: k for k in word2index}"
   ]
  },
  {
   "cell_type": "markdown",
   "id": "varying-harvest",
   "metadata": {},
   "source": [
    "# Shuffle and split dataset"
   ]
  },
  {
   "cell_type": "code",
   "execution_count": null,
   "id": "grateful-notification",
   "metadata": {},
   "outputs": [],
   "source": [
    "np.random.seed(42)\n",
    "random_index = np.random.permutation(25000)\n",
    "\n",
    "x_train = x_train_all[random_index[:20000]]\n",
    "y_train = y_train_all[random_index[:20000]]\n",
    "x_val = x_train_all[random_index[20000:]]\n",
    "y_val = y_train_all[random_index[20000:]]"
   ]
  },
  {
   "cell_type": "markdown",
   "id": "difficult-universe",
   "metadata": {},
   "source": [
    "# One hot encoding"
   ]
  },
  {
   "cell_type": "code",
   "execution_count": null,
   "id": "olympic-magic",
   "metadata": {},
   "outputs": [],
   "source": [
    "from tensorflow.keras.preprocessing import sequence"
   ]
  },
  {
   "cell_type": "code",
   "execution_count": null,
   "id": "junior-buffalo",
   "metadata": {},
   "outputs": [],
   "source": [
    "maxlen = 100\n",
    "x_train = sequence.pad_sequences(x_train, maxlen=maxlen)\n",
    "x_val = sequence.pad_sequences(x_val, maxlen=maxlen)"
   ]
  },
  {
   "cell_type": "code",
   "execution_count": null,
   "id": "comparable-sensitivity",
   "metadata": {},
   "outputs": [],
   "source": [
    "from tensorflow.keras.utils import to_categorical"
   ]
  },
  {
   "cell_type": "code",
   "execution_count": null,
   "id": "orange-zambia",
   "metadata": {},
   "outputs": [],
   "source": [
    "x_train_onehot = to_categorical(x_train)\n",
    "x_val_onebot = to_categorical(x_val)"
   ]
  },
  {
   "cell_type": "markdown",
   "id": "increased-yorkshire",
   "metadata": {},
   "source": [
    "# Build model"
   ]
  },
  {
   "cell_type": "code",
   "execution_count": null,
   "id": "final-matrix",
   "metadata": {},
   "outputs": [],
   "source": [
    "from tensorflow.keras.models import Sequential\n",
    "from tensorflow.keras.layers import Dense, SimpleRNN"
   ]
  },
  {
   "cell_type": "code",
   "execution_count": null,
   "id": "detected-destiny",
   "metadata": {},
   "outputs": [],
   "source": [
    "model = Sequential()"
   ]
  },
  {
   "cell_type": "code",
   "execution_count": null,
   "id": "possible-vegetation",
   "metadata": {},
   "outputs": [],
   "source": [
    "model.add(SimpleRNN(32, input_shape=(100, 100)))\n",
    "model.add(Dense(1, activation='sigmoid'))\n",
    "model.summary()"
   ]
  },
  {
   "cell_type": "markdown",
   "id": "processed-jewel",
   "metadata": {},
   "source": [
    "# Train a model"
   ]
  },
  {
   "cell_type": "code",
   "execution_count": null,
   "id": "tired-kazakhstan",
   "metadata": {},
   "outputs": [],
   "source": [
    "model.compile(optimizer='sgd', loss='binary_crossentropy', metrics=['accuracy'])\n",
    "history = model.fit(x_train_onehot, y_train, batch_size=32, epochs=20, validation_data=(x_val_onebot, y_val))"
   ]
  },
  {
   "cell_type": "markdown",
   "id": "normal-budget",
   "metadata": {},
   "source": [
    "# Visualize a result"
   ]
  },
  {
   "cell_type": "code",
   "execution_count": null,
   "id": "requested-finding",
   "metadata": {},
   "outputs": [],
   "source": [
    "import matplotlib.pyplot as plt"
   ]
  },
  {
   "cell_type": "code",
   "execution_count": null,
   "id": "floating-stage",
   "metadata": {},
   "outputs": [],
   "source": [
    "plt.plot(history.history['loss'])\n",
    "plt.plot(history.history['val_loss'])\n",
    "plt.xlabel('Epoch')\n",
    "plt.ylabel('Loss')\n",
    "plt.title('Loss')\n",
    "plt.legend(['train', 'val'])\n",
    "plt.grid()\n",
    "plt.show()"
   ]
  },
  {
   "cell_type": "code",
   "execution_count": null,
   "id": "distinct-sailing",
   "metadata": {},
   "outputs": [],
   "source": [
    "plt.plot(history.history['accuracy'])\n",
    "plt.plot(history.history['val_accuracy'])\n",
    "plt.xlabel('Epoch')\n",
    "plt.ylabel('Accuracy')\n",
    "plt.title('Accuracy')\n",
    "plt.legend(['train', 'val'])\n",
    "plt.grid()\n",
    "plt.show()"
   ]
  },
  {
   "cell_type": "markdown",
   "id": "satellite-sweet",
   "metadata": {},
   "source": [
    "# Evaluate a model"
   ]
  },
  {
   "cell_type": "code",
   "execution_count": null,
   "id": "continued-frequency",
   "metadata": {},
   "outputs": [],
   "source": [
    "loss, accuracy = model.evaluate(x_val_onebot, y_val, verbose=2)"
   ]
  },
  {
   "cell_type": "markdown",
   "id": "hourly-irish",
   "metadata": {},
   "source": [
    "# Build new model with embedding"
   ]
  },
  {
   "cell_type": "code",
   "execution_count": null,
   "id": "coastal-qatar",
   "metadata": {},
   "outputs": [],
   "source": [
    "from tensorflow.keras.layers import Embedding, BatchNormalization, Dropout"
   ]
  },
  {
   "cell_type": "code",
   "execution_count": null,
   "id": "accepted-japanese",
   "metadata": {},
   "outputs": [],
   "source": [
    "(x_train_all, y_train_all), (x_test, y_test) = imdb.load_data(num_words=1000, skip_top=20)"
   ]
  },
  {
   "cell_type": "code",
   "execution_count": null,
   "id": "exposed-hamilton",
   "metadata": {},
   "outputs": [],
   "source": [
    "for i, sample in enumerate(x_train_all):\n",
    "    x_train_all[i] = [n for n in sample if n > 2]"
   ]
  },
  {
   "cell_type": "code",
   "execution_count": null,
   "id": "spare-lighter",
   "metadata": {},
   "outputs": [],
   "source": [
    "random_index = np.random.permutation(np.arange(25000))\n",
    "\n",
    "x_train = x_train_all[random_index[:20000]]\n",
    "y_train = y_train_all[random_index[:20000]]\n",
    "x_val = x_train_all[random_index[20000:]]\n",
    "y_val = y_train_all[random_index[20000:]]"
   ]
  },
  {
   "cell_type": "code",
   "execution_count": null,
   "id": "spiritual-passage",
   "metadata": {},
   "outputs": [],
   "source": [
    "maxlen = 100\n",
    "x_train_seq = sequence.pad_sequences(x_train, maxlen)\n",
    "x_val_seq = sequence.pad_sequences(x_val, maxlen)"
   ]
  },
  {
   "cell_type": "code",
   "execution_count": null,
   "id": "measured-civilian",
   "metadata": {},
   "outputs": [],
   "source": [
    "model = Sequential()"
   ]
  },
  {
   "cell_type": "code",
   "execution_count": null,
   "id": "authentic-corner",
   "metadata": {},
   "outputs": [],
   "source": [
    "model.add(Embedding(1000, 32))\n",
    "model.add(SimpleRNN(8))\n",
    "model.add(BatchNormalization())\n",
    "model.add(Dropout(0.5))\n",
    "model.add(Dense(1, activation='sigmoid'))\n",
    "model.summary()"
   ]
  },
  {
   "cell_type": "code",
   "execution_count": null,
   "id": "interesting-plasma",
   "metadata": {},
   "outputs": [],
   "source": [
    "model.compile(optimizer='adam', loss='binary_crossentropy', metrics=['accuracy'])\n",
    "history = model.fit(x_train_seq, y_train, epochs=20, batch_size=32, validation_data=(x_val_seq, y_val), verbose=2)"
   ]
  },
  {
   "cell_type": "markdown",
   "id": "bridal-cover",
   "metadata": {},
   "source": [
    "# Visualize a result"
   ]
  },
  {
   "cell_type": "code",
   "execution_count": null,
   "id": "ignored-sunset",
   "metadata": {},
   "outputs": [],
   "source": [
    "plt.plot(history.history['loss'])\n",
    "plt.plot(history.history['val_loss'])\n",
    "plt.xlabel('Epoch')\n",
    "plt.ylabel('Loss')\n",
    "plt.legend(['train', 'val'])\n",
    "plt.grid()\n",
    "plt.show()"
   ]
  },
  {
   "cell_type": "code",
   "execution_count": null,
   "id": "dietary-amino",
   "metadata": {},
   "outputs": [],
   "source": [
    "plt.plot(history.history['accuracy'])\n",
    "plt.plot(history.history['val_accuracy'])\n",
    "plt.xlabel('Epoch')\n",
    "plt.ylabel('Accuracy')\n",
    "plt.legend(['train', 'val'])\n",
    "plt.grid()\n",
    "plt.show()"
   ]
  },
  {
   "cell_type": "markdown",
   "id": "independent-assurance",
   "metadata": {},
   "source": [
    "# Evaluate a model"
   ]
  },
  {
   "cell_type": "code",
   "execution_count": null,
   "id": "major-smoke",
   "metadata": {},
   "outputs": [],
   "source": [
    "loss, accuracy = model.evaluate(x_val_seq, y_val, verbose=2)"
   ]
  }
 ],
 "metadata": {
  "kernelspec": {
   "display_name": "Python 3",
   "language": "python",
   "name": "python3"
  },
  "language_info": {
   "codemirror_mode": {
    "name": "ipython",
    "version": 3
   },
   "file_extension": ".py",
   "mimetype": "text/x-python",
   "name": "python",
   "nbconvert_exporter": "python",
   "pygments_lexer": "ipython3",
   "version": "3.8.2"
  }
 },
 "nbformat": 4,
 "nbformat_minor": 5
}
